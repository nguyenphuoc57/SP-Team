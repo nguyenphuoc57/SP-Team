{
  "nbformat": 4,
  "nbformat_minor": 0,
  "metadata": {
    "colab": {
      "name": "VGG19_2.ipynb",
      "provenance": [],
      "collapsed_sections": []
    },
    "kernelspec": {
      "name": "python3",
      "display_name": "Python 3"
    },
    "language_info": {
      "name": "python"
    },
    "accelerator": "GPU"
  },
  "cells": [
    {
      "cell_type": "code",
      "metadata": {
        "id": "gCoNR_oujRsY"
      },
      "source": [
        "import keras, os\n",
        "import numpy as np\n",
        "from keras.models import Model\n",
        "from keras.layers import Dense\n",
        "from keras import optimizers\n",
        "from keras.preprocessing.image import ImageDataGenerator\n",
        "from keras.preprocessing import image\n",
        "\n",
        "import PIL\n",
        "from io import BytesIO\n",
        "from IPython.display import display, Image\n",
        "\n",
        "from keras.models import Sequential\n",
        "from keras.layers import Conv2D\n",
        "from keras.layers import MaxPool2D\n",
        "from keras.layers import Flatten"
      ],
      "execution_count": null,
      "outputs": []
    },
    {
      "cell_type": "code",
      "metadata": {
        "colab": {
          "base_uri": "https://localhost:8080/"
        },
        "id": "xRjWSy3kjfq_",
        "outputId": "8de797f0-a8dc-4f61-ca30-f070fa2a366b"
      },
      "source": [
        "trdata = ImageDataGenerator(rescale=(1/255))\n",
        "traindata = trdata.flow_from_directory(directory=\"/content/drive/MyDrive/Dataset_Apple_and_Oranges_Gray/train\",target_size=(224,224))\n",
        "tsdata = ImageDataGenerator(1/255)\n",
        "testdata=tsdata.flow_from_directory(directory='/content/drive/MyDrive/Dataset_Apple_and_Oranges_Gray/test',target_size=(224,224))"
      ],
      "execution_count": null,
      "outputs": [
        {
          "output_type": "stream",
          "text": [
            "Found 2014 images belonging to 2 classes.\n",
            "Found 519 images belonging to 2 classes.\n"
          ],
          "name": "stdout"
        }
      ]
    },
    {
      "cell_type": "code",
      "metadata": {
        "id": "nh6vw8cbji5x",
        "colab": {
          "base_uri": "https://localhost:8080/"
        },
        "outputId": "3c364567-0774-4a63-efe0-8d9a2ba1f4ce"
      },
      "source": [
        "from keras.applications.vgg19 import VGG19\n",
        "vggmodel = VGG19(weights='imagenet',include_top=True)"
      ],
      "execution_count": null,
      "outputs": [
        {
          "output_type": "stream",
          "text": [
            "Downloading data from https://storage.googleapis.com/tensorflow/keras-applications/vgg19/vgg19_weights_tf_dim_ordering_tf_kernels.h5\n",
            "574717952/574710816 [==============================] - 12s 0us/step\n",
            "574726144/574710816 [==============================] - 12s 0us/step\n"
          ],
          "name": "stdout"
        }
      ]
    },
    {
      "cell_type": "code",
      "metadata": {
        "colab": {
          "base_uri": "https://localhost:8080/"
        },
        "id": "wYfNLGayjo24",
        "outputId": "94cbf3ea-5da8-47ee-a8a9-cedcbb182144"
      },
      "source": [
        "vggmodel.summary()"
      ],
      "execution_count": null,
      "outputs": [
        {
          "output_type": "stream",
          "text": [
            "Model: \"vgg19\"\n",
            "_________________________________________________________________\n",
            "Layer (type)                 Output Shape              Param #   \n",
            "=================================================================\n",
            "input_1 (InputLayer)         [(None, 224, 224, 3)]     0         \n",
            "_________________________________________________________________\n",
            "block1_conv1 (Conv2D)        (None, 224, 224, 64)      1792      \n",
            "_________________________________________________________________\n",
            "block1_conv2 (Conv2D)        (None, 224, 224, 64)      36928     \n",
            "_________________________________________________________________\n",
            "block1_pool (MaxPooling2D)   (None, 112, 112, 64)      0         \n",
            "_________________________________________________________________\n",
            "block2_conv1 (Conv2D)        (None, 112, 112, 128)     73856     \n",
            "_________________________________________________________________\n",
            "block2_conv2 (Conv2D)        (None, 112, 112, 128)     147584    \n",
            "_________________________________________________________________\n",
            "block2_pool (MaxPooling2D)   (None, 56, 56, 128)       0         \n",
            "_________________________________________________________________\n",
            "block3_conv1 (Conv2D)        (None, 56, 56, 256)       295168    \n",
            "_________________________________________________________________\n",
            "block3_conv2 (Conv2D)        (None, 56, 56, 256)       590080    \n",
            "_________________________________________________________________\n",
            "block3_conv3 (Conv2D)        (None, 56, 56, 256)       590080    \n",
            "_________________________________________________________________\n",
            "block3_conv4 (Conv2D)        (None, 56, 56, 256)       590080    \n",
            "_________________________________________________________________\n",
            "block3_pool (MaxPooling2D)   (None, 28, 28, 256)       0         \n",
            "_________________________________________________________________\n",
            "block4_conv1 (Conv2D)        (None, 28, 28, 512)       1180160   \n",
            "_________________________________________________________________\n",
            "block4_conv2 (Conv2D)        (None, 28, 28, 512)       2359808   \n",
            "_________________________________________________________________\n",
            "block4_conv3 (Conv2D)        (None, 28, 28, 512)       2359808   \n",
            "_________________________________________________________________\n",
            "block4_conv4 (Conv2D)        (None, 28, 28, 512)       2359808   \n",
            "_________________________________________________________________\n",
            "block4_pool (MaxPooling2D)   (None, 14, 14, 512)       0         \n",
            "_________________________________________________________________\n",
            "block5_conv1 (Conv2D)        (None, 14, 14, 512)       2359808   \n",
            "_________________________________________________________________\n",
            "block5_conv2 (Conv2D)        (None, 14, 14, 512)       2359808   \n",
            "_________________________________________________________________\n",
            "block5_conv3 (Conv2D)        (None, 14, 14, 512)       2359808   \n",
            "_________________________________________________________________\n",
            "block5_conv4 (Conv2D)        (None, 14, 14, 512)       2359808   \n",
            "_________________________________________________________________\n",
            "block5_pool (MaxPooling2D)   (None, 7, 7, 512)         0         \n",
            "_________________________________________________________________\n",
            "flatten (Flatten)            (None, 25088)             0         \n",
            "_________________________________________________________________\n",
            "fc1 (Dense)                  (None, 4096)              102764544 \n",
            "_________________________________________________________________\n",
            "fc2 (Dense)                  (None, 4096)              16781312  \n",
            "_________________________________________________________________\n",
            "predictions (Dense)          (None, 1000)              4097000   \n",
            "=================================================================\n",
            "Total params: 143,667,240\n",
            "Trainable params: 143,667,240\n",
            "Non-trainable params: 0\n",
            "_________________________________________________________________\n"
          ],
          "name": "stdout"
        }
      ]
    },
    {
      "cell_type": "code",
      "metadata": {
        "colab": {
          "base_uri": "https://localhost:8080/"
        },
        "id": "V0iS6ZcXjqpG",
        "outputId": "38352e5a-1848-4a2d-a201-49419955e85b"
      },
      "source": [
        "for layers in (vggmodel.layers)[:23]:\n",
        "  print(layers)\n",
        "  layers.trainable = False"
      ],
      "execution_count": null,
      "outputs": [
        {
          "output_type": "stream",
          "text": [
            "<keras.engine.input_layer.InputLayer object at 0x7f21d2d09310>\n",
            "<keras.layers.convolutional.Conv2D object at 0x7f21d0872f90>\n",
            "<keras.layers.convolutional.Conv2D object at 0x7f21d0831650>\n",
            "<keras.layers.pooling.MaxPooling2D object at 0x7f21d0831d50>\n",
            "<keras.layers.convolutional.Conv2D object at 0x7f21d05af3d0>\n",
            "<keras.layers.convolutional.Conv2D object at 0x7f21d05af5d0>\n",
            "<keras.layers.pooling.MaxPooling2D object at 0x7f21d0831710>\n",
            "<keras.layers.convolutional.Conv2D object at 0x7f21d05b7390>\n",
            "<keras.layers.convolutional.Conv2D object at 0x7f21d0540890>\n",
            "<keras.layers.convolutional.Conv2D object at 0x7f21d05b3cd0>\n",
            "<keras.layers.convolutional.Conv2D object at 0x7f21d05483d0>\n",
            "<keras.layers.pooling.MaxPooling2D object at 0x7f21d0551450>\n",
            "<keras.layers.convolutional.Conv2D object at 0x7f21d054b150>\n",
            "<keras.layers.convolutional.Conv2D object at 0x7f21d0555310>\n",
            "<keras.layers.convolutional.Conv2D object at 0x7f21d055f490>\n",
            "<keras.layers.convolutional.Conv2D object at 0x7f21d05558d0>\n",
            "<keras.layers.pooling.MaxPooling2D object at 0x7f21d0566e10>\n",
            "<keras.layers.convolutional.Conv2D object at 0x7f21d056e5d0>\n",
            "<keras.layers.convolutional.Conv2D object at 0x7f21d0576c10>\n",
            "<keras.layers.convolutional.Conv2D object at 0x7f21d0566b50>\n",
            "<keras.layers.convolutional.Conv2D object at 0x7f21d0500790>\n",
            "<keras.layers.pooling.MaxPooling2D object at 0x7f21d0508810>\n",
            "<keras.layers.core.Flatten object at 0x7f21d0503590>\n"
          ],
          "name": "stdout"
        }
      ]
    },
    {
      "cell_type": "code",
      "metadata": {
        "id": "PVQ1TO1BWUNz"
      },
      "source": [
        "from tensorflow.keras.optimizers import RMSprop"
      ],
      "execution_count": null,
      "outputs": []
    },
    {
      "cell_type": "code",
      "metadata": {
        "id": "IPceeAVpjxRe"
      },
      "source": [
        "X=vggmodel.layers[-2].output\n",
        "predictions = Dense(2,activation=\"softmax\")(X)\n",
        "model_final=Model(inputs= vggmodel.input,outputs= predictions)"
      ],
      "execution_count": null,
      "outputs": []
    },
    {
      "cell_type": "code",
      "metadata": {
        "id": "lvVM1CFLjya-"
      },
      "source": [
        "model_final.compile(loss=\"categorical_crossentropy\",\n",
        "                    optimizer= optimizers.SGD(learning_rate=0.01, momentum=0.9),metrics=[\"accuracy\"])"
      ],
      "execution_count": null,
      "outputs": []
    },
    {
      "cell_type": "code",
      "metadata": {
        "colab": {
          "base_uri": "https://localhost:8080/"
        },
        "id": "Hvcxm8Ghj2yw",
        "outputId": "8ceafb8d-fc73-4d4c-ceaa-4630a6b295e9"
      },
      "source": [
        "model_final.summary()"
      ],
      "execution_count": null,
      "outputs": [
        {
          "output_type": "stream",
          "text": [
            "Model: \"model\"\n",
            "_________________________________________________________________\n",
            "Layer (type)                 Output Shape              Param #   \n",
            "=================================================================\n",
            "input_1 (InputLayer)         [(None, 224, 224, 3)]     0         \n",
            "_________________________________________________________________\n",
            "block1_conv1 (Conv2D)        (None, 224, 224, 64)      1792      \n",
            "_________________________________________________________________\n",
            "block1_conv2 (Conv2D)        (None, 224, 224, 64)      36928     \n",
            "_________________________________________________________________\n",
            "block1_pool (MaxPooling2D)   (None, 112, 112, 64)      0         \n",
            "_________________________________________________________________\n",
            "block2_conv1 (Conv2D)        (None, 112, 112, 128)     73856     \n",
            "_________________________________________________________________\n",
            "block2_conv2 (Conv2D)        (None, 112, 112, 128)     147584    \n",
            "_________________________________________________________________\n",
            "block2_pool (MaxPooling2D)   (None, 56, 56, 128)       0         \n",
            "_________________________________________________________________\n",
            "block3_conv1 (Conv2D)        (None, 56, 56, 256)       295168    \n",
            "_________________________________________________________________\n",
            "block3_conv2 (Conv2D)        (None, 56, 56, 256)       590080    \n",
            "_________________________________________________________________\n",
            "block3_conv3 (Conv2D)        (None, 56, 56, 256)       590080    \n",
            "_________________________________________________________________\n",
            "block3_conv4 (Conv2D)        (None, 56, 56, 256)       590080    \n",
            "_________________________________________________________________\n",
            "block3_pool (MaxPooling2D)   (None, 28, 28, 256)       0         \n",
            "_________________________________________________________________\n",
            "block4_conv1 (Conv2D)        (None, 28, 28, 512)       1180160   \n",
            "_________________________________________________________________\n",
            "block4_conv2 (Conv2D)        (None, 28, 28, 512)       2359808   \n",
            "_________________________________________________________________\n",
            "block4_conv3 (Conv2D)        (None, 28, 28, 512)       2359808   \n",
            "_________________________________________________________________\n",
            "block4_conv4 (Conv2D)        (None, 28, 28, 512)       2359808   \n",
            "_________________________________________________________________\n",
            "block4_pool (MaxPooling2D)   (None, 14, 14, 512)       0         \n",
            "_________________________________________________________________\n",
            "block5_conv1 (Conv2D)        (None, 14, 14, 512)       2359808   \n",
            "_________________________________________________________________\n",
            "block5_conv2 (Conv2D)        (None, 14, 14, 512)       2359808   \n",
            "_________________________________________________________________\n",
            "block5_conv3 (Conv2D)        (None, 14, 14, 512)       2359808   \n",
            "_________________________________________________________________\n",
            "block5_conv4 (Conv2D)        (None, 14, 14, 512)       2359808   \n",
            "_________________________________________________________________\n",
            "block5_pool (MaxPooling2D)   (None, 7, 7, 512)         0         \n",
            "_________________________________________________________________\n",
            "flatten (Flatten)            (None, 25088)             0         \n",
            "_________________________________________________________________\n",
            "fc1 (Dense)                  (None, 4096)              102764544 \n",
            "_________________________________________________________________\n",
            "fc2 (Dense)                  (None, 4096)              16781312  \n",
            "_________________________________________________________________\n",
            "dense (Dense)                (None, 2)                 8194      \n",
            "=================================================================\n",
            "Total params: 139,578,434\n",
            "Trainable params: 119,554,050\n",
            "Non-trainable params: 20,024,384\n",
            "_________________________________________________________________\n"
          ],
          "name": "stdout"
        }
      ]
    },
    {
      "cell_type": "code",
      "metadata": {
        "colab": {
          "base_uri": "https://localhost:8080/"
        },
        "id": "fAyOef2Gj5Vm",
        "outputId": "5c0b9504-e04b-4545-9949-6367dcd51493"
      },
      "source": [
        "from keras.callbacks import ModelCheckpoint ,EarlyStopping\n",
        "checkpoint = ModelCheckpoint(\"vgg19_1.h5\",monitor='val_accuracy',verbose=1, save_best_file_only=False,save_weights_only=True,mode='auto',peroid=1)\n",
        "early = EarlyStopping(monitor='val_accuracy',min_delta=0,patience=40,verbose=1,mode='auto')\n",
        "hist = model_final.fit_generator(generator= traindata, steps_per_epoch=2, epochs=100, verbose=1, validation_data= testdata, validation_steps=2)"
      ],
      "execution_count": null,
      "outputs": [
        {
          "output_type": "stream",
          "text": [
            "/usr/local/lib/python3.7/dist-packages/keras/engine/training.py:1915: UserWarning: `Model.fit_generator` is deprecated and will be removed in a future version. Please use `Model.fit`, which supports generators.\n",
            "  warnings.warn('`Model.fit_generator` is deprecated and '\n"
          ],
          "name": "stderr"
        },
        {
          "output_type": "stream",
          "text": [
            "Epoch 1/100\n",
            "2/2 [==============================] - ETA: 0s - loss: 19.5777 - accuracy: 0.2969 "
          ],
          "name": "stdout"
        },
        {
          "output_type": "stream",
          "text": [
            "/usr/local/lib/python3.7/dist-packages/keras_preprocessing/image/image_data_generator.py:720: UserWarning: This ImageDataGenerator specifies `featurewise_center`, but it hasn't been fit on any training data. Fit it first by calling `.fit(numpy_data)`.\n",
            "  warnings.warn('This ImageDataGenerator specifies '\n"
          ],
          "name": "stderr"
        },
        {
          "output_type": "stream",
          "text": [
            "\b\b\b\b\b\b\b\b\b\b\b\b\b\b\b\b\b\b\b\b\b\b\b\b\b\b\b\b\b\b\b\b\b\b\b\b\b\b\b\b\b\b\b\b\b\b\b\b\b\b\b\b\b\b\b\b\b\b\b\b\b\b\b\b\b\b\b\b\b\b\b\b\b\b\b\b\b\b\b\b\b\r2/2 [==============================] - 128s 56s/step - loss: 25.1099 - accuracy: 0.3125 - val_loss: 6.1722 - val_accuracy: 0.4531\n",
            "Epoch 2/100\n",
            "2/2 [==============================] - 75s 58s/step - loss: 2.4342 - accuracy: 0.4896 - val_loss: 1.5308 - val_accuracy: 0.5000\n",
            "Epoch 3/100\n",
            "2/2 [==============================] - 71s 53s/step - loss: 0.6988 - accuracy: 0.4271 - val_loss: 0.9914 - val_accuracy: 0.5156\n",
            "Epoch 4/100\n",
            "2/2 [==============================] - 57s 40s/step - loss: 0.7522 - accuracy: 0.5000 - val_loss: 0.9784 - val_accuracy: 0.4375\n",
            "Epoch 5/100\n",
            "2/2 [==============================] - 54s 37s/step - loss: 0.7258 - accuracy: 0.5312 - val_loss: 0.7609 - val_accuracy: 0.5938\n",
            "Epoch 6/100\n",
            "2/2 [==============================] - 52s 39s/step - loss: 0.7201 - accuracy: 0.4583 - val_loss: 0.7231 - val_accuracy: 0.5469\n",
            "Epoch 7/100\n",
            "2/2 [==============================] - 40s 27s/step - loss: 0.7059 - accuracy: 0.4479 - val_loss: 1.2376 - val_accuracy: 0.3906\n",
            "Epoch 8/100\n",
            "2/2 [==============================] - 47s 37s/step - loss: 0.7215 - accuracy: 0.4889 - val_loss: 0.7483 - val_accuracy: 0.4531\n",
            "Epoch 9/100\n",
            "2/2 [==============================] - 36s 25s/step - loss: 0.6910 - accuracy: 0.5938 - val_loss: 0.7492 - val_accuracy: 0.5000\n",
            "Epoch 10/100\n",
            "2/2 [==============================] - 30s 19s/step - loss: 0.6902 - accuracy: 0.6042 - val_loss: 0.7209 - val_accuracy: 0.4688\n",
            "Epoch 11/100\n",
            "2/2 [==============================] - 32s 19s/step - loss: 0.6894 - accuracy: 0.6042 - val_loss: 0.7350 - val_accuracy: 0.4531\n",
            "Epoch 12/100\n",
            "2/2 [==============================] - 26s 17s/step - loss: 0.6951 - accuracy: 0.4792 - val_loss: 0.7438 - val_accuracy: 0.4688\n",
            "Epoch 13/100\n",
            "2/2 [==============================] - 25s 16s/step - loss: 0.6882 - accuracy: 0.5833 - val_loss: 0.7713 - val_accuracy: 0.5469\n",
            "Epoch 14/100\n",
            "2/2 [==============================] - 27s 17s/step - loss: 0.6930 - accuracy: 0.5104 - val_loss: 0.7682 - val_accuracy: 0.4844\n",
            "Epoch 15/100\n",
            "2/2 [==============================] - 28s 16s/step - loss: 0.7055 - accuracy: 0.3542 - val_loss: 0.6825 - val_accuracy: 0.5781\n",
            "Epoch 16/100\n",
            "2/2 [==============================] - 22s 14s/step - loss: 0.6900 - accuracy: 0.5521 - val_loss: 0.7226 - val_accuracy: 0.5781\n",
            "Epoch 17/100\n",
            "2/2 [==============================] - 23s 11s/step - loss: 0.6971 - accuracy: 0.4583 - val_loss: 0.7584 - val_accuracy: 0.4219\n",
            "Epoch 18/100\n",
            "2/2 [==============================] - 18s 7s/step - loss: 0.6922 - accuracy: 0.5208 - val_loss: 0.7404 - val_accuracy: 0.4844\n",
            "Epoch 19/100\n",
            "2/2 [==============================] - 19s 11s/step - loss: 0.6944 - accuracy: 0.4896 - val_loss: 0.6983 - val_accuracy: 0.5000\n",
            "Epoch 20/100\n",
            "2/2 [==============================] - 17s 11s/step - loss: 0.6956 - accuracy: 0.4688 - val_loss: 0.7545 - val_accuracy: 0.4219\n",
            "Epoch 21/100\n",
            "2/2 [==============================] - 13s 6s/step - loss: 0.6958 - accuracy: 0.4583 - val_loss: 0.6925 - val_accuracy: 0.5312\n",
            "Epoch 22/100\n",
            "2/2 [==============================] - 15s 5s/step - loss: 0.6956 - accuracy: 0.4479 - val_loss: 0.7390 - val_accuracy: 0.5156\n",
            "Epoch 23/100\n",
            "2/2 [==============================] - 14s 7s/step - loss: 0.6927 - accuracy: 0.5208 - val_loss: 0.7158 - val_accuracy: 0.5312\n",
            "Epoch 24/100\n",
            "2/2 [==============================] - 15s 10s/step - loss: 0.6941 - accuracy: 0.4583 - val_loss: 0.7280 - val_accuracy: 0.4688\n",
            "Epoch 25/100\n",
            "2/2 [==============================] - 16s 8s/step - loss: 0.6935 - accuracy: 0.4688 - val_loss: 0.8046 - val_accuracy: 0.4062\n",
            "Epoch 26/100\n",
            "2/2 [==============================] - 13s 9s/step - loss: 0.6930 - accuracy: 0.4896 - val_loss: 0.7051 - val_accuracy: 0.4688\n",
            "Epoch 27/100\n",
            "2/2 [==============================] - 12s 6s/step - loss: 0.6932 - accuracy: 0.5104 - val_loss: 0.7236 - val_accuracy: 0.5156\n",
            "Epoch 28/100\n",
            "2/2 [==============================] - 15s 9s/step - loss: 0.6932 - accuracy: 0.4688 - val_loss: 0.7289 - val_accuracy: 0.5156\n",
            "Epoch 29/100\n",
            "2/2 [==============================] - 11s 4s/step - loss: 0.6932 - accuracy: 0.4896 - val_loss: 0.7456 - val_accuracy: 0.4844\n",
            "Epoch 30/100\n",
            "2/2 [==============================] - 9s 5s/step - loss: 0.6931 - accuracy: 0.4583 - val_loss: 0.7110 - val_accuracy: 0.5469\n",
            "Epoch 31/100\n",
            "2/2 [==============================] - 9s 5s/step - loss: 0.6932 - accuracy: 0.4896 - val_loss: 0.7081 - val_accuracy: 0.5000\n",
            "Epoch 32/100\n",
            "2/2 [==============================] - 11s 4s/step - loss: 0.6937 - accuracy: 0.4062 - val_loss: 0.7058 - val_accuracy: 0.5156\n",
            "Epoch 33/100\n",
            "2/2 [==============================] - 9s 5s/step - loss: 0.6931 - accuracy: 0.5521 - val_loss: 0.7546 - val_accuracy: 0.4375\n",
            "Epoch 34/100\n",
            "2/2 [==============================] - 9s 5s/step - loss: 0.6930 - accuracy: 0.5625 - val_loss: 0.7565 - val_accuracy: 0.4688\n",
            "Epoch 35/100\n",
            "2/2 [==============================] - 8s 4s/step - loss: 0.6931 - accuracy: 0.5312 - val_loss: 0.7743 - val_accuracy: 0.4375\n",
            "Epoch 36/100\n",
            "2/2 [==============================] - 6s 3s/step - loss: 0.6926 - accuracy: 0.5417 - val_loss: 0.7192 - val_accuracy: 0.4688\n",
            "Epoch 37/100\n",
            "2/2 [==============================] - 8s 4s/step - loss: 0.6936 - accuracy: 0.4792 - val_loss: 0.7620 - val_accuracy: 0.4531\n",
            "Epoch 38/100\n",
            "2/2 [==============================] - 6s 3s/step - loss: 0.6949 - accuracy: 0.4375 - val_loss: 0.7005 - val_accuracy: 0.4844\n",
            "Epoch 39/100\n",
            "2/2 [==============================] - 8s 3s/step - loss: 0.6922 - accuracy: 0.5417 - val_loss: 0.7443 - val_accuracy: 0.4219\n",
            "Epoch 40/100\n",
            "2/2 [==============================] - 8s 3s/step - loss: 0.6930 - accuracy: 0.5208 - val_loss: 0.7434 - val_accuracy: 0.4062\n",
            "Epoch 41/100\n",
            "2/2 [==============================] - 6s 3s/step - loss: 0.6923 - accuracy: 0.5417 - val_loss: 0.7204 - val_accuracy: 0.4844\n",
            "Epoch 42/100\n",
            "2/2 [==============================] - 8s 4s/step - loss: 0.6933 - accuracy: 0.5000 - val_loss: 0.7712 - val_accuracy: 0.4688\n",
            "Epoch 43/100\n",
            "2/2 [==============================] - 6s 4s/step - loss: 0.6904 - accuracy: 0.6458 - val_loss: 0.7313 - val_accuracy: 0.5156\n",
            "Epoch 44/100\n",
            "2/2 [==============================] - 6s 4s/step - loss: 0.6911 - accuracy: 0.5729 - val_loss: 0.7048 - val_accuracy: 0.5625\n",
            "Epoch 45/100\n",
            "2/2 [==============================] - 6s 3s/step - loss: 0.6958 - accuracy: 0.4375 - val_loss: 0.7687 - val_accuracy: 0.3281\n",
            "Epoch 46/100\n",
            "2/2 [==============================] - 5s 2s/step - loss: 0.6929 - accuracy: 0.5104 - val_loss: 0.7377 - val_accuracy: 0.5000\n",
            "Epoch 47/100\n",
            "2/2 [==============================] - 6s 3s/step - loss: 0.6946 - accuracy: 0.4792 - val_loss: 0.7296 - val_accuracy: 0.4219\n",
            "Epoch 48/100\n",
            "2/2 [==============================] - 6s 2s/step - loss: 0.6929 - accuracy: 0.5104 - val_loss: 0.7797 - val_accuracy: 0.4062\n",
            "Epoch 49/100\n",
            "2/2 [==============================] - 2s 1s/step - loss: 0.6984 - accuracy: 0.4167 - val_loss: 0.7597 - val_accuracy: 0.3906\n",
            "Epoch 50/100\n",
            "2/2 [==============================] - 4s 3s/step - loss: 0.6930 - accuracy: 0.5104 - val_loss: 0.7637 - val_accuracy: 0.4688\n",
            "Epoch 51/100\n",
            "2/2 [==============================] - 4s 2s/step - loss: 0.6941 - accuracy: 0.4896 - val_loss: 0.7350 - val_accuracy: 0.4688\n",
            "Epoch 52/100\n",
            "2/2 [==============================] - 4s 3s/step - loss: 0.6935 - accuracy: 0.5000 - val_loss: 0.6961 - val_accuracy: 0.5312\n",
            "Epoch 53/100\n",
            "2/2 [==============================] - 5s 3s/step - loss: 0.6920 - accuracy: 0.5312 - val_loss: 0.7015 - val_accuracy: 0.4375\n",
            "Epoch 54/100\n",
            "2/2 [==============================] - 2s 1s/step - loss: 0.7005 - accuracy: 0.3438 - val_loss: 0.7655 - val_accuracy: 0.4375\n",
            "Epoch 55/100\n",
            "2/2 [==============================] - 3s 1s/step - loss: 0.6956 - accuracy: 0.4375 - val_loss: 0.6802 - val_accuracy: 0.5156\n",
            "Epoch 56/100\n",
            "2/2 [==============================] - 4s 3s/step - loss: 0.6908 - accuracy: 0.5938 - val_loss: 0.7297 - val_accuracy: 0.4844\n",
            "Epoch 57/100\n",
            "2/2 [==============================] - 3s 3s/step - loss: 0.6921 - accuracy: 0.5625 - val_loss: 0.6315 - val_accuracy: 0.5938\n",
            "Epoch 58/100\n",
            "2/2 [==============================] - 4s 2s/step - loss: 0.6924 - accuracy: 0.5521 - val_loss: 0.6966 - val_accuracy: 0.5312\n",
            "Epoch 59/100\n",
            "2/2 [==============================] - 4s 2s/step - loss: 0.6919 - accuracy: 0.5729 - val_loss: 0.7893 - val_accuracy: 0.4062\n",
            "Epoch 60/100\n",
            "2/2 [==============================] - 3s 2s/step - loss: 0.6915 - accuracy: 0.5729 - val_loss: 0.7800 - val_accuracy: 0.4375\n",
            "Epoch 61/100\n",
            "2/2 [==============================] - 4s 3s/step - loss: 0.6949 - accuracy: 0.4479 - val_loss: 0.7385 - val_accuracy: 0.3906\n",
            "Epoch 62/100\n",
            "2/2 [==============================] - 3s 2s/step - loss: 0.6940 - accuracy: 0.4792 - val_loss: 0.7409 - val_accuracy: 0.3750\n",
            "Epoch 63/100\n",
            "2/2 [==============================] - 2s 1s/step - loss: 0.6926 - accuracy: 0.5208 - val_loss: 0.6976 - val_accuracy: 0.5625\n",
            "Epoch 64/100\n",
            "2/2 [==============================] - 5s 2s/step - loss: 0.6906 - accuracy: 0.5729 - val_loss: 0.7557 - val_accuracy: 0.5312\n",
            "Epoch 65/100\n",
            "2/2 [==============================] - 2s 2s/step - loss: 0.6934 - accuracy: 0.5000 - val_loss: 0.7840 - val_accuracy: 0.4219\n",
            "Epoch 66/100\n",
            "2/2 [==============================] - 4s 3s/step - loss: 0.6910 - accuracy: 0.5521 - val_loss: 0.7289 - val_accuracy: 0.4844\n",
            "Epoch 67/100\n",
            "2/2 [==============================] - 4s 3s/step - loss: 0.6912 - accuracy: 0.5430 - val_loss: 0.7323 - val_accuracy: 0.4375\n",
            "Epoch 68/100\n",
            "2/2 [==============================] - 5s 1s/step - loss: 0.7002 - accuracy: 0.3854 - val_loss: 0.7543 - val_accuracy: 0.4844\n",
            "Epoch 69/100\n",
            "2/2 [==============================] - 2s 1s/step - loss: 0.6918 - accuracy: 0.5312 - val_loss: 0.7792 - val_accuracy: 0.4688\n",
            "Epoch 70/100\n",
            "2/2 [==============================] - 1s 1s/step - loss: 0.6954 - accuracy: 0.4688 - val_loss: 0.7900 - val_accuracy: 0.3906\n",
            "Epoch 71/100\n",
            "2/2 [==============================] - 3s 1s/step - loss: 0.6949 - accuracy: 0.4792 - val_loss: 0.7211 - val_accuracy: 0.5000\n",
            "Epoch 72/100\n",
            "2/2 [==============================] - 2s 2s/step - loss: 0.6930 - accuracy: 0.5104 - val_loss: 0.7759 - val_accuracy: 0.5312\n",
            "Epoch 73/100\n",
            "2/2 [==============================] - 3s 1s/step - loss: 0.6924 - accuracy: 0.5208 - val_loss: 0.7115 - val_accuracy: 0.5000\n",
            "Epoch 74/100\n",
            "2/2 [==============================] - 2s 1s/step - loss: 0.6956 - accuracy: 0.4479 - val_loss: 0.7196 - val_accuracy: 0.4531\n",
            "Epoch 75/100\n",
            "2/2 [==============================] - 2s 1s/step - loss: 0.6964 - accuracy: 0.3958 - val_loss: 0.7477 - val_accuracy: 0.4062\n",
            "Epoch 76/100\n",
            "2/2 [==============================] - 1s 1s/step - loss: 0.6924 - accuracy: 0.5312 - val_loss: 0.7272 - val_accuracy: 0.5312\n",
            "Epoch 77/100\n",
            "2/2 [==============================] - 2s 1s/step - loss: 0.6932 - accuracy: 0.4896 - val_loss: 0.7935 - val_accuracy: 0.4844\n",
            "Epoch 78/100\n",
            "2/2 [==============================] - 3s 3s/step - loss: 0.6925 - accuracy: 0.5417 - val_loss: 0.6971 - val_accuracy: 0.5938\n",
            "Epoch 79/100\n",
            "2/2 [==============================] - 2s 1s/step - loss: 0.6956 - accuracy: 0.4167 - val_loss: 0.7118 - val_accuracy: 0.5781\n",
            "Epoch 80/100\n",
            "2/2 [==============================] - 2s 1s/step - loss: 0.6961 - accuracy: 0.4167 - val_loss: 0.7782 - val_accuracy: 0.3438\n",
            "Epoch 81/100\n",
            "2/2 [==============================] - 2s 1s/step - loss: 0.6937 - accuracy: 0.4896 - val_loss: 0.7244 - val_accuracy: 0.4688\n",
            "Epoch 82/100\n",
            "2/2 [==============================] - 1s 1s/step - loss: 0.6946 - accuracy: 0.4583 - val_loss: 0.7257 - val_accuracy: 0.4531\n",
            "Epoch 83/100\n",
            "2/2 [==============================] - 3s 1s/step - loss: 0.6912 - accuracy: 0.5729 - val_loss: 0.7425 - val_accuracy: 0.4844\n",
            "Epoch 84/100\n",
            "2/2 [==============================] - 2s 1s/step - loss: 0.6939 - accuracy: 0.4688 - val_loss: 0.7051 - val_accuracy: 0.4844\n",
            "Epoch 85/100\n",
            "2/2 [==============================] - 1s 1s/step - loss: 0.6925 - accuracy: 0.5312 - val_loss: 0.7173 - val_accuracy: 0.5312\n",
            "Epoch 86/100\n",
            "2/2 [==============================] - 2s 1s/step - loss: 0.6932 - accuracy: 0.5000 - val_loss: 0.7209 - val_accuracy: 0.5312\n",
            "Epoch 87/100\n",
            "2/2 [==============================] - 3s 2s/step - loss: 0.6933 - accuracy: 0.5000 - val_loss: 0.7179 - val_accuracy: 0.4688\n",
            "Epoch 88/100\n",
            "2/2 [==============================] - 1s 1s/step - loss: 0.6931 - accuracy: 0.5000 - val_loss: 0.7111 - val_accuracy: 0.5156\n",
            "Epoch 89/100\n",
            "2/2 [==============================] - 1s 1s/step - loss: 0.6931 - accuracy: 0.5417 - val_loss: 0.7075 - val_accuracy: 0.5469\n",
            "Epoch 90/100\n",
            "2/2 [==============================] - 3s 1s/step - loss: 0.6932 - accuracy: 0.4479 - val_loss: 0.7530 - val_accuracy: 0.4375\n",
            "Epoch 91/100\n",
            "2/2 [==============================] - 1s 1s/step - loss: 0.6931 - accuracy: 0.5423 - val_loss: 0.7646 - val_accuracy: 0.4062\n",
            "Epoch 92/100\n",
            "2/2 [==============================] - 3s 2s/step - loss: 0.6934 - accuracy: 0.4583 - val_loss: 0.7482 - val_accuracy: 0.4219\n",
            "Epoch 93/100\n",
            "2/2 [==============================] - 2s 1s/step - loss: 0.6932 - accuracy: 0.5000 - val_loss: 0.7226 - val_accuracy: 0.5000\n",
            "Epoch 94/100\n",
            "2/2 [==============================] - 2s 1s/step - loss: 0.6930 - accuracy: 0.5312 - val_loss: 0.7666 - val_accuracy: 0.4531\n",
            "Epoch 95/100\n",
            "2/2 [==============================] - 1s 1s/step - loss: 0.6942 - accuracy: 0.3958 - val_loss: 0.7231 - val_accuracy: 0.4219\n",
            "Epoch 96/100\n",
            "2/2 [==============================] - 2s 1s/step - loss: 0.6930 - accuracy: 0.5521 - val_loss: 0.7528 - val_accuracy: 0.5156\n",
            "Epoch 97/100\n",
            "2/2 [==============================] - 2s 1s/step - loss: 0.6933 - accuracy: 0.4271 - val_loss: 0.7138 - val_accuracy: 0.4375\n",
            "Epoch 98/100\n",
            "2/2 [==============================] - 2s 1s/step - loss: 0.6932 - accuracy: 0.4896 - val_loss: 0.6944 - val_accuracy: 0.5156\n",
            "Epoch 99/100\n",
            "2/2 [==============================] - 1s 1s/step - loss: 0.6933 - accuracy: 0.4792 - val_loss: 0.7238 - val_accuracy: 0.5312\n",
            "Epoch 100/100\n",
            "2/2 [==============================] - 2s 1s/step - loss: 0.6932 - accuracy: 0.4896 - val_loss: 0.6588 - val_accuracy: 0.5938\n"
          ],
          "name": "stdout"
        }
      ]
    },
    {
      "cell_type": "code",
      "metadata": {
        "colab": {
          "base_uri": "https://localhost:8080/"
        },
        "id": "rzDv6YpJU7_x",
        "outputId": "5491b90b-1f4d-4e38-8af3-91fb3581e35e"
      },
      "source": [
        "model_final.save('/content/drive/MyDrive/VGGsave')"
      ],
      "execution_count": null,
      "outputs": [
        {
          "output_type": "stream",
          "text": [
            "INFO:tensorflow:Assets written to: /content/drive/MyDrive/VGGsave/assets\n"
          ],
          "name": "stdout"
        }
      ]
    },
    {
      "cell_type": "code",
      "metadata": {
        "id": "7N6CcjB9YMur"
      },
      "source": [
        "#Run this first\n",
        "from tensorflow import keras\n",
        "model_temp = keras.models.load_model('/content/drive/MyDrive/VGGsave')"
      ],
      "execution_count": null,
      "outputs": []
    },
    {
      "cell_type": "code",
      "metadata": {
        "id": "TF-Z4YDnwaKn"
      },
      "source": [
        "#Save the final weights after training\n",
        "model_final.save_weights(\"vgg19_1.h5\")\n"
      ],
      "execution_count": null,
      "outputs": []
    },
    {
      "cell_type": "code",
      "metadata": {
        "colab": {
          "base_uri": "https://localhost:8080/",
          "height": 295
        },
        "id": "7e1Yy0_vw7GZ",
        "outputId": "bd2937a2-472b-4179-86f2-f8adacd79dd6"
      },
      "source": [
        "#To visualise the training/validation accuracy and loss\n",
        "import matplotlib.pyplot as plt\n",
        "plt.plot(hist.history['accuracy'])\n",
        "plt.plot(hist.history['val_accuracy'])\n",
        "plt.plot(hist.history['loss'])\n",
        "plt.plot(hist.history['val_loss'])\n",
        "plt.title(\"model_accuracy\")\n",
        "plt.ylabel(\"Accuracy\")\n",
        "plt.xlabel(\"Epoch\")\n",
        "plt.legend([\"Accuracy\",\"Validation Accuracy\",\"Loss\",\"Validation Loss\"])\n",
        "plt.show()"
      ],
      "execution_count": null,
      "outputs": [
        {
          "output_type": "display_data",
          "data": {
            "image/png": "[encoded data removed]",
            "text/plain": [
              "<Figure size 432x288 with 1 Axes>"
            ]
          },
          "metadata": {
            "tags": [],
            "needs_background": "light"
          }
        }
      ]
    },
    {
      "cell_type": "code",
      "metadata": {
        "id": "C3_Sx8PAVUBz"
      },
      "source": [
        "from keras.preprocessing import image\n",
        "import numpy as np\n",
        "import matplotlib.pyplot as plt\n",
        "from keras.models import load_model \n",
        "\n",
        "#Load the final model for data testing/prediction \n",
        "saved_model= model_final.save_weights(\"vgg19_1.h5\")\n",
        "#saved_model = Load_model(\"vgg19_1.h5\")"
      ],
      "execution_count": null,
      "outputs": []
    },
    {
      "cell_type": "code",
      "metadata": {
        "colab": {
          "base_uri": "https://localhost:8080/",
          "height": 257
        },
        "id": "TsgY77F9dJHO",
        "outputId": "265d15f2-eddc-4219-db79-5eb17f8dbe4b"
      },
      "source": [
        "from io import BytesIO\n",
        "import PIL\n",
        "from IPython.display import display, Image \n",
        "from keras.preprocessing.image import load_img\n",
        "from skimage import io\n",
        "import numpy as np\n",
        "import pandas as pd\n",
        "import cv2 as cv \n",
        "from google.colab.patches import cv2_imshow\n",
        "#Display testing data and label below \n",
        "def display_img_array(ima):\n",
        "  im = PIL.Image.fromarray(ima)\n",
        "  bio=BytesIO()\n",
        "  im.save(bio, format='png')\n",
        "  display(Image(bio.getvalue(), format='png'))\n",
        "\n",
        "urls = \"https://thumbs.dreamstime.com/z/grayscale-tangerines-white-tangerins-black-table-83008039.jpg\"\n",
        "img_temp = io.imread(urls)\n",
        "image_2 = cv.cvtColor(img_temp, cv.COLOR_RGB2BGR)\n",
        "image = cv.resize(image_2,(224,224))\n",
        "display_img_array(image)\n",
        "image=np.expand_dims(image,axis=0)\n",
        "output=model_final.predict(image)\n",
        "if output[0][0] > output[0][1]:\n",
        "  print(\"orange\")\n",
        "else:\n",
        "  print(\"apple\")\n",
        "\n"
      ],
      "execution_count": null,
      "outputs": [
        {
          "output_type": "display_data",
          "data": {
            "image/png": "[encoded data removed]",
            "text/plain": [
              "<IPython.core.display.Image object>"
            ]
          },
          "metadata": {
            "tags": []
          }
        },
        {
          "output_type": "stream",
          "text": [
            "orange\n"
          ],
          "name": "stdout"
        }
      ]
    },
    {
      "cell_type": "code",
      "metadata": {
        "colab": {
          "base_uri": "https://localhost:8080/"
        },
        "id": "5dX0gR-chx7G",
        "outputId": "0bd9f0fa-f9b4-4d0c-f054-be823a09c00b"
      },
      "source": [
        "from google.colab import drive\n",
        "drive.mount('/content/drive')"
      ],
      "execution_count": null,
      "outputs": [
        {
          "output_type": "stream",
          "text": [
            "Drive already mounted at /content/drive; to attempt to forcibly remount, call drive.mount(\"/content/drive\", force_remount=True).\n"
          ],
          "name": "stdout"
        }
      ]
    },
    {
      "cell_type": "code",
      "metadata": {
        "colab": {
          "base_uri": "https://localhost:8080/"
        },
        "id": "kOqJni56FRR6",
        "outputId": "bb9c84a1-2eb3-494b-f0c8-7ce3999d251e"
      },
      "source": [
        "from keras.models import Model, load_model\n",
        "#drive.mount('/content/drive')\n",
        "model = model_final\n",
        "weight_kernel = model.layers[1].weights[0].numpy()\n",
        "print(weight_kernel)"
      ],
      "execution_count": null,
      "outputs": [
        {
          "output_type": "stream",
          "text": [
            "[[[[ 0.34119523  0.09563112  0.0177449  ... -0.11436455 -0.05099866\n",
            "    -0.00299793]\n",
            "   [ 0.46418372  0.03355668  0.10245045 ... -0.06945956 -0.04020201\n",
            "     0.04048637]\n",
            "   [ 0.39416704 -0.08419707 -0.03631314 ... -0.10720515 -0.03804016\n",
            "     0.04690642]]\n",
            "\n",
            "  [[ 0.33999205  0.13363543  0.02129423 ... -0.13025227 -0.16508926\n",
            "    -0.06969624]\n",
            "   [ 0.41810837  0.05260524  0.09755926 ... -0.09385028 -0.20492788\n",
            "    -0.0573062 ]\n",
            "   [ 0.37740308 -0.07876257 -0.04775979 ... -0.11827433 -0.19008617\n",
            "    -0.01889699]]\n",
            "\n",
            "  [[-0.04484424  0.06471398 -0.07631404 ... -0.12629718 -0.29905206\n",
            "    -0.2825364 ]\n",
            "   [-0.04806903 -0.00658076 -0.02234544 ... -0.0878844  -0.3915486\n",
            "    -0.34632796]\n",
            "   [-0.04594866 -0.11583115 -0.14462094 ... -0.12290562 -0.35782176\n",
            "    -0.27979308]]]\n",
            "\n",
            "\n",
            " [[[ 0.23215917  0.133657    0.12134422 ... -0.1063385   0.28406844\n",
            "     0.3594997 ]\n",
            "   [ 0.30511212  0.05677647  0.21688674 ... -0.06828708  0.3440761\n",
            "     0.44033417]\n",
            "   [ 0.2671299  -0.07969447  0.05988706 ... -0.09225675  0.31764674\n",
            "     0.42209673]]\n",
            "\n",
            "  [[ 0.08978214  0.18505956  0.15264879 ... -0.04266965  0.25779948\n",
            "     0.35873157]\n",
            "   [ 0.10385381  0.08851637  0.2392226  ... -0.01210995  0.27064082\n",
            "     0.40848857]\n",
            "   [ 0.09986369 -0.06240906  0.07442063 ... -0.02214639  0.25912452\n",
            "     0.423499  ]]\n",
            "\n",
            "  [[-0.30331427  0.08002605 -0.03926321 ... -0.12958746 -0.19778992\n",
            "    -0.21510386]\n",
            "   [-0.37314063 -0.00698938  0.02153259 ... -0.09827439 -0.2535741\n",
            "    -0.25541356]\n",
            "   [-0.34100872 -0.13399366 -0.11510294 ... -0.11911335 -0.23109646\n",
            "    -0.19202407]]]\n",
            "\n",
            "\n",
            " [[[-0.07260918  0.10084777  0.01313597 ... -0.12594968  0.1464741\n",
            "     0.05009392]\n",
            "   [-0.07646758  0.03879711  0.09974211 ... -0.08732687  0.2247974\n",
            "     0.10158388]\n",
            "   [-0.07573577 -0.07806503 -0.03540679 ... -0.1208065   0.20088433\n",
            "     0.09790061]]\n",
            "\n",
            "  [[-0.246675    0.1414054   0.02605635 ... -0.10128672  0.16340195\n",
            "     0.02832468]\n",
            "   [-0.3107071   0.06031388  0.10412455 ... -0.06832542  0.20279962\n",
            "     0.05222717]\n",
            "   [-0.2803425  -0.07094654 -0.0387974  ... -0.08843154  0.18996507\n",
            "     0.07766484]]\n",
            "\n",
            "  [[-0.33683276  0.06601517 -0.08144748 ... -0.13460518 -0.1342358\n",
            "    -0.27096185]\n",
            "   [-0.46453714 -0.00576723 -0.02660675 ... -0.10017379 -0.15603794\n",
            "    -0.32566148]\n",
            "   [-0.41602272 -0.11491341 -0.14672887 ... -0.13079506 -0.1379628\n",
            "    -0.2658845 ]]]]\n"
          ],
          "name": "stdout"
        }
      ]
    },
    {
      "cell_type": "code",
      "metadata": {
        "id": "fb7sBVDJnO8s"
      },
      "source": [
        "#Bias Print\n",
        "import ctypes\n",
        "import struct\n",
        "def float_to_bin(num):\n",
        "    return format(struct.unpack('!I', struct.pack('!f', num))[0], '032b')\n",
        "\n",
        "for layers in model_final.layers:\n",
        "  a=str(layers.name)\n",
        "  if 'conv' in a:\n",
        "    w= layers.weights[1].numpy()\n",
        "    with open(layers.name + \"_gray_bias.txt\".format(layers),\"w\") as temp:\n",
        "      for x in w:\n",
        "        temp.write(float_to_bin(x))\n",
        "        temp.write(\"\\n\")\n",
        "        "
      ],
      "execution_count": null,
      "outputs": []
    },
    {
      "cell_type": "code",
      "metadata": {
        "id": "BW4FcvIyteqb",
        "colab": {
          "base_uri": "https://localhost:8080/"
        },
        "outputId": "d9515bf9-b13d-42db-c641-d85eb87eb3e1"
      },
      "source": [
        "#Nháp\n",
        "for layers in model_final.layers:\n",
        "  a=str(layers.name)\n",
        "  if \"conv\" in a:\n",
        "   print(a)"
      ],
      "execution_count": null,
      "outputs": [
        {
          "output_type": "stream",
          "text": [
            "block1_conv1\n",
            "block1_conv2\n",
            "block2_conv1\n",
            "block2_conv2\n",
            "block3_conv1\n",
            "block3_conv2\n",
            "block3_conv3\n",
            "block3_conv4\n",
            "block4_conv1\n",
            "block4_conv2\n",
            "block4_conv3\n",
            "block4_conv4\n",
            "block5_conv1\n",
            "block5_conv2\n",
            "block5_conv3\n",
            "block5_conv4\n"
          ],
          "name": "stdout"
        }
      ]
    },
    {
      "cell_type": "code",
      "metadata": {
        "id": "o79wgfaTwRP0"
      },
      "source": [
        "#Nháp\n",
        "for layers in model_final.layers:\n",
        "  a=str(layers.name)\n",
        "  if \"bias\" in a:\n",
        "   print(a)"
      ],
      "execution_count": null,
      "outputs": []
    },
    {
      "cell_type": "code",
      "metadata": {
        "id": "6gswu8TG2Ae0"
      },
      "source": [
        "#Kernel Print\n",
        "from keras.models import Model, load_model\n",
        "import ctypes\n",
        "import struct\n",
        "def float_to_bin(num):\n",
        "    return format(struct.unpack('!I', struct.pack('!f', num))[0], '032b')\n",
        "#drive.mount('/content/drive')\n",
        "model = model_temp\n",
        "weight_kernel = model.layers[1].weights[0].numpy()\n",
        "matrix=[]\n",
        "#for x in weight_kernel:\n",
        " #for i in x:\n",
        "  # a=[]\n",
        "   #a.append(x)\n",
        "   #for i in a:\n",
        "     #matrix.append(i)\n",
        "#print(matrix)\n",
        "for layers in model.layers :\n",
        "  a=str(layers.name)\n",
        "  if 'conv' in a:\n",
        "    w= layers.weights[0].numpy()\n",
        "    with open(layers.name + \"_gray_kernel.txt\".format(layers),\"w\") as temp:\n",
        "     for x in w:\n",
        "      for y in x:\n",
        "        for a in y:\n",
        "          for b in a:\n",
        "           temp.write(float_to_bin(b))\n",
        "           temp.write(\"\\n\") \n",
        "  \n"
      ],
      "execution_count": null,
      "outputs": []
    }
  ]
}